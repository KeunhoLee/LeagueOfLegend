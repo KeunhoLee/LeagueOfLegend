{
  "nbformat": 4,
  "nbformat_minor": 0,
  "metadata": {
    "colab": {
      "name": "DCGAN_1st.ipynb",
      "provenance": [],
      "toc_visible": true,
      "authorship_tag": "ABX9TyP8sp8Emq6hjHMACOVUTG4d",
      "include_colab_link": true
    },
    "kernelspec": {
      "name": "python3",
      "display_name": "Python 3"
    },
    "accelerator": "GPU"
  },
  "cells": [
    {
      "cell_type": "markdown",
      "metadata": {
        "id": "view-in-github",
        "colab_type": "text"
      },
      "source": [
        "<a href=\"https://colab.research.google.com/github/KeunhoLee/LeagueOfLegend/blob/master/DCGAN_1st.ipynb\" target=\"_parent\"><img src=\"https://colab.research.google.com/assets/colab-badge.svg\" alt=\"Open In Colab\"/></a>"
      ]
    },
    {
      "cell_type": "code",
      "metadata": {
        "colab": {
          "base_uri": "https://localhost:8080/",
          "height": 172
        },
        "id": "X-MaTRqMNLnj",
        "outputId": "8b7765b0-7d67-4d3f-b0cb-8e96f79902c7"
      },
      "source": [
        "tf.keras.backend.clear_session()"
      ],
      "execution_count": 1,
      "outputs": [
        {
          "output_type": "error",
          "ename": "NameError",
          "evalue": "ignored",
          "traceback": [
            "\u001b[0;31m---------------------------------------------------------------------------\u001b[0m",
            "\u001b[0;31mNameError\u001b[0m                                 Traceback (most recent call last)",
            "\u001b[0;32m<ipython-input-1-caf4ada4afcc>\u001b[0m in \u001b[0;36m<module>\u001b[0;34m()\u001b[0m\n\u001b[0;32m----> 1\u001b[0;31m \u001b[0mtf\u001b[0m\u001b[0;34m.\u001b[0m\u001b[0mkeras\u001b[0m\u001b[0;34m.\u001b[0m\u001b[0mbackend\u001b[0m\u001b[0;34m.\u001b[0m\u001b[0mclear_session\u001b[0m\u001b[0;34m(\u001b[0m\u001b[0;34m)\u001b[0m\u001b[0;34m\u001b[0m\u001b[0;34m\u001b[0m\u001b[0m\n\u001b[0m",
            "\u001b[0;31mNameError\u001b[0m: name 'tf' is not defined"
          ]
        }
      ]
    },
    {
      "cell_type": "code",
      "metadata": {
        "id": "zUlw-9VQdgQ2"
      },
      "source": [
        "import tensorflow as tf"
      ],
      "execution_count": 2,
      "outputs": []
    },
    {
      "cell_type": "code",
      "metadata": {
        "colab": {
          "base_uri": "https://localhost:8080/",
          "height": 35
        },
        "id": "J_7L3UPfdg83",
        "outputId": "36918e53-6e2e-48ee-fdb4-c098b6807acd"
      },
      "source": [
        "tf.__version__"
      ],
      "execution_count": 3,
      "outputs": [
        {
          "output_type": "execute_result",
          "data": {
            "application/vnd.google.colaboratory.intrinsic+json": {
              "type": "string"
            },
            "text/plain": [
              "'2.4.1'"
            ]
          },
          "metadata": {
            "tags": []
          },
          "execution_count": 3
        }
      ]
    },
    {
      "cell_type": "code",
      "metadata": {
        "id": "J-rCI2UXdiMl"
      },
      "source": [
        "import os.path\r\n",
        "import numpy as np\r\n",
        "from keras.models import * \r\n",
        "from keras.layers import * \r\n",
        "from keras.optimizers import * \r\n",
        "import keras.backend as K \r\n",
        "import matplotlib.pyplot as plt\r\n",
        "\r\n",
        "import os \r\n",
        "from PIL import Image\r\n"
      ],
      "execution_count": 4,
      "outputs": []
    },
    {
      "cell_type": "code",
      "metadata": {
        "id": "Wua44-rnd7tA"
      },
      "source": [
        "K.set_image_data_format('channels_last')"
      ],
      "execution_count": 5,
      "outputs": []
    },
    {
      "cell_type": "code",
      "metadata": {
        "id": "BAHqvXmzeL1I"
      },
      "source": [
        "class Gan: \r\n",
        "  def __init__(self, img_data): \r\n",
        "    img_size = img_data.shape[1]\r\n",
        "    img_size_2 = img_data.shape[2]\r\n",
        "    channel = img_data.shape[3] if len(img_data.shape) >= 4 else 1 \r\n",
        "    self.img_data = img_data \r\n",
        "    self.input_shape = (img_size, img_size_2, channel) \r\n",
        "    self.img_rows = img_size \r\n",
        "    self.img_cols = img_size_2 \r\n",
        "    self.channel = channel \r\n",
        "    self.noise_size = 100 \r\n",
        "    \r\n",
        "    # Create D and G. \r\n",
        "    self.create_d() \r\n",
        "    self.create_g() \r\n",
        "    \r\n",
        "    # Build model to train D. \r\n",
        "    optimizer = Adam(lr=0.0008) \r\n",
        "    self.D.compile(loss='binary_crossentropy', optimizer=optimizer)\r\n",
        "    \r\n",
        "    # Build model to train G. \r\n",
        "    optimizer = Adam(lr=0.0004) \r\n",
        "    self.D.trainable = False\r\n",
        "    self.AM = Sequential() \r\n",
        "    self.AM.add(self.G) \r\n",
        "    self.AM.add(self.D) \r\n",
        "    self.AM.compile(loss='binary_crossentropy', optimizer=optimizer)\r\n",
        "\r\n",
        "  def create_d(self):\r\n",
        "    self.D = Sequential()\r\n",
        "    depth = 64\r\n",
        "    dropout = 0.4 \r\n",
        "    self.D.add(Conv2D(depth*1, 5, strides=2, input_shape=self.input_shape, padding='same')) \r\n",
        "    self.D.add(LeakyReLU(alpha=0.2)) \r\n",
        "    self.D.add(Dropout(dropout)) \r\n",
        "    self.D.add(Conv2D(depth*2, 5, strides=2, padding='same')) \r\n",
        "    self.D.add(LeakyReLU(alpha=0.2)) \r\n",
        "    self.D.add(Dropout(dropout)) \r\n",
        "    self.D.add(Conv2D(depth*4, 5, strides=2, padding='same')) \r\n",
        "    self.D.add(LeakyReLU(alpha=0.2)) \r\n",
        "    self.D.add(Dropout(dropout)) \r\n",
        "    self.D.add(Conv2D(depth*8, 5, strides=1, padding='same')) \r\n",
        "    self.D.add(LeakyReLU(alpha=0.2)) \r\n",
        "    self.D.add(Dropout(dropout)) \r\n",
        "    self.D.add(Flatten()) \r\n",
        "    self.D.add(Dense(1)) \r\n",
        "    self.D.add(Activation('sigmoid')) \r\n",
        "    self.D.summary() \r\n",
        "    return self.D\r\n",
        "\r\n",
        "  def create_g(self):\r\n",
        "    self.G = Sequential()\r\n",
        "    dropout = 0.4\r\n",
        "    depth = 64+64+64+64\r\n",
        "    dim = 8 \r\n",
        "    self.G.add(Dense(dim*dim*depth, input_dim=self.noise_size)) \r\n",
        "    self.G.add(BatchNormalization(momentum=0.9)) \r\n",
        "    self.G.add(Activation('relu')) \r\n",
        "    self.G.add(Reshape((dim, dim, depth))) \r\n",
        "    self.G.add(Dropout(dropout)) \r\n",
        "    self.G.add(UpSampling2D()) \r\n",
        "    self.G.add(Conv2DTranspose(int(depth/2), 5, padding='same')) \r\n",
        "    self.G.add(BatchNormalization(momentum=0.9)) \r\n",
        "    self.G.add(Activation('relu')) \r\n",
        "    self.G.add(UpSampling2D()) \r\n",
        "    self.G.add(Conv2DTranspose(int(depth/4), 5, padding='same')) \r\n",
        "    self.G.add(BatchNormalization(momentum=0.9)) \r\n",
        "    self.G.add(Activation('relu')) \r\n",
        "    self.G.add(Conv2DTranspose(int(depth/8), 5, padding='same')) \r\n",
        "    self.G.add(BatchNormalization(momentum=0.9)) \r\n",
        "    self.G.add(Activation('relu')) \r\n",
        "    self.G.add(Conv2DTranspose(self.channel, 5, padding='same')) \r\n",
        "    self.G.add(Activation('sigmoid')) \r\n",
        "    self.G.summary() \r\n",
        "    return self.G\r\n",
        "  \r\n",
        "  def train(self, batch_size=100):   \r\n",
        "    # Pick image data randomly. \r\n",
        "    \r\n",
        "    images_train = self.img_data[np.random.randint(0, self.img_data.shape[0], size=batch_size), :, :, :] \r\n",
        "    \r\n",
        "    # Generate images from noise. \r\n",
        "    \r\n",
        "    noise = np.random.uniform(-1.0, 1.0, size=[batch_size, self.noise_size]) \r\n",
        "    images_fake = self.G.predict(noise) \r\n",
        "    \r\n",
        "    # Train D. \r\n",
        "    x = np.concatenate((images_train, images_fake)) \r\n",
        "    y = np.ones([2*batch_size, 1]) \r\n",
        "    y[batch_size:, :] = 0 \r\n",
        "    self.D.trainable = True \r\n",
        "    d_loss = self.D.train_on_batch(x, y) \r\n",
        "    \r\n",
        "    # Train G. \r\n",
        "    y = np.ones([batch_size, 1]) \r\n",
        "    noise = np.random.uniform(-1.0, 1.0, size=[batch_size, self.noise_size]) \r\n",
        "    self.D.trainable = False \r\n",
        "    a_loss = self.AM.train_on_batch(noise, y) \r\n",
        "    \r\n",
        "    return d_loss, a_loss, images_fake\r\n",
        "\r\n",
        "  def predict(self, noise):\r\n",
        "    return self.G.predict(noise)\r\n",
        "\r\n",
        "  def save(self):\r\n",
        "    self.G.save_weights('/content/gdrive/MyDrive/saap_pjt_1_thumbnail/weights/gan_g_weights.h5') \r\n",
        "    self.D.save_weights('/content/gdrive/MyDrive/saap_pjt_1_thumbnail/weights/gan_d_weights.h5')\r\n",
        "\r\n",
        "  def load(self):\r\n",
        "    if os.path.isfile('/content/gdrive/MyDrive/saap_pjt_1_thumbnail/weights/gan_g_weights.h5'):\r\n",
        "      self.G.load_weights('/content/gdrive/MyDrive/saap_pjt_1_thumbnail/weights/gan_g_weights.h5') \r\n",
        "      print(\"Load G from file.\") \r\n",
        "\r\n",
        "    if os.path.isfile('gan_d_weights.h5'): \r\n",
        "      self.D.load_weights('gan_d_weights.h5') \r\n",
        "      print(\"Load D from file.\")\r\n",
        "\r\n",
        "class NaverData(): \r\n",
        "  def __init__(self): \r\n",
        "    img_data_list = [] \r\n",
        "    err_cnt1=0\r\n",
        "    err_cnt2=0\r\n",
        "    images = os.listdir(\"/content/gdrive/MyDrive/saap_pjt_1_thumbnail/thumbnails_resize\") #naver_id_\" + str(id) + \".jpg\r\n",
        "    for i, path in enumerate(images): \r\n",
        "\r\n",
        "      title, ext = os.path.splitext(path)\r\n",
        "      if ext not in ['.jpg']:\r\n",
        "        continue\r\n",
        "      \r\n",
        "      try:\r\n",
        "        img = Image.open(\"/content/gdrive/MyDrive/saap_pjt_1_thumbnail/thumbnails_resize/\" + path) \r\n",
        "      except:\r\n",
        "        err_cnt1+=1\r\n",
        "       \r\n",
        "      if np.array(img).shape != (32,32,3):\r\n",
        "        err_cnt2 += 1\r\n",
        "        continue\r\n",
        "      \r\n",
        "      img_data_list.append([np.array(img).astype('float32')]) \r\n",
        "      # print(np.array(img).shape)\r\n",
        "      \r\n",
        "    try:\r\n",
        "      self.x_train = np.vstack(img_data_list) / 255.0 \r\n",
        "    except ValueError as e:\r\n",
        "      err_cnt2 += 1 \r\n",
        "      print(path + \" Error : \", e)\r\n",
        "    # print(self.x_train.shape)\r\n",
        "    print(err_cnt1, \"error occured.\")\r\n",
        "    print(err_cnt2, \"error occured.\")\r\n"
      ],
      "execution_count": 6,
      "outputs": []
    },
    {
      "cell_type": "code",
      "metadata": {
        "colab": {
          "base_uri": "https://localhost:8080/"
        },
        "id": "HLQvahbwhNrp",
        "outputId": "2e39ae13-c3e7-4472-ed74-0fa5fe5eed35"
      },
      "source": [
        "from google.colab import drive\r\n",
        "drive.mount('/content/gdrive/')"
      ],
      "execution_count": 7,
      "outputs": [
        {
          "output_type": "stream",
          "text": [
            "Mounted at /content/gdrive/\n"
          ],
          "name": "stdout"
        }
      ]
    },
    {
      "cell_type": "code",
      "metadata": {
        "id": "ObDX-Q9yhwO5"
      },
      "source": [
        "# import os \r\n",
        "# from PIL import Image \r\n",
        "# images = os.listdir(\"/content/gdrive/MyDrive/saap_pjt_1_thumbnail/thumbnails\") \r\n",
        "# err_cnt = 0\r\n",
        "\r\n",
        "# for i, name in enumerate(images): \r\n",
        "#   # print(i)\r\n",
        "#   try:\r\n",
        "#     img = Image.open(\"/content/gdrive/MyDrive/saap_pjt_1_thumbnail/thumbnails/\" + name)\r\n",
        "#     img_resize = img.resize((32, 32), Image.ANTIALIAS)\r\n",
        "#     img_resize.save(f'/content/gdrive/MyDrive/saap_pjt_1_thumbnail/thumbnails_resize/naver_id_{i}.jpg')\r\n",
        "#   except:\r\n",
        "#     err_cnt += 1"
      ],
      "execution_count": 72,
      "outputs": []
    },
    {
      "cell_type": "code",
      "metadata": {
        "colab": {
          "base_uri": "https://localhost:8080/"
        },
        "id": "tgdR-vZJhI65",
        "outputId": "834d6444-c588-4265-e03f-bc1273fadfc0"
      },
      "source": [
        "dataset = NaverData()"
      ],
      "execution_count": 9,
      "outputs": [
        {
          "output_type": "stream",
          "text": [
            "47 error occured.\n",
            "4 error occured.\n"
          ],
          "name": "stdout"
        }
      ]
    },
    {
      "cell_type": "code",
      "metadata": {
        "id": "JDmg1-CkizUP"
      },
      "source": [
        "import pickle\r\n",
        "\r\n",
        "with open('/content/gdrive/MyDrive/saap_pjt_1_thumbnail/data_32_32.pickle', 'wb') as f:\r\n",
        "    pickle.dump(dataset, f, pickle.HIGHEST_PROTOCOL)"
      ],
      "execution_count": 15,
      "outputs": []
    },
    {
      "cell_type": "code",
      "metadata": {
        "id": "SnZgeM9Ro5gb"
      },
      "source": [
        "# Load dataset.\r\n",
        "# dataset = PokemonData() \r\n",
        "x_train = dataset.x_train "
      ],
      "execution_count": 10,
      "outputs": []
    },
    {
      "cell_type": "code",
      "metadata": {
        "colab": {
          "base_uri": "https://localhost:8080/"
        },
        "id": "eRfVU2ue2_xG",
        "outputId": "91eca795-ef0f-4833-9de6-fdd5ceaccc55"
      },
      "source": [
        "x_train.shape"
      ],
      "execution_count": 11,
      "outputs": [
        {
          "output_type": "execute_result",
          "data": {
            "text/plain": [
              "(1256, 32, 32, 3)"
            ]
          },
          "metadata": {
            "tags": []
          },
          "execution_count": 11
        }
      ]
    },
    {
      "cell_type": "code",
      "metadata": {
        "colab": {
          "base_uri": "https://localhost:8080/"
        },
        "id": "Xn7uoCd0pUjh",
        "outputId": "692aa33c-f70a-4f2f-d2c3-4246707ad925"
      },
      "source": [
        "# Init network \r\n",
        "\r\n",
        "gan = Gan(x_train) \r\n",
        "# gan.load()"
      ],
      "execution_count": 12,
      "outputs": [
        {
          "output_type": "stream",
          "text": [
            "Model: \"sequential\"\n",
            "_________________________________________________________________\n",
            "Layer (type)                 Output Shape              Param #   \n",
            "=================================================================\n",
            "conv2d (Conv2D)              (None, 16, 16, 64)        4864      \n",
            "_________________________________________________________________\n",
            "leaky_re_lu (LeakyReLU)      (None, 16, 16, 64)        0         \n",
            "_________________________________________________________________\n",
            "dropout (Dropout)            (None, 16, 16, 64)        0         \n",
            "_________________________________________________________________\n",
            "conv2d_1 (Conv2D)            (None, 8, 8, 128)         204928    \n",
            "_________________________________________________________________\n",
            "leaky_re_lu_1 (LeakyReLU)    (None, 8, 8, 128)         0         \n",
            "_________________________________________________________________\n",
            "dropout_1 (Dropout)          (None, 8, 8, 128)         0         \n",
            "_________________________________________________________________\n",
            "conv2d_2 (Conv2D)            (None, 4, 4, 256)         819456    \n",
            "_________________________________________________________________\n",
            "leaky_re_lu_2 (LeakyReLU)    (None, 4, 4, 256)         0         \n",
            "_________________________________________________________________\n",
            "dropout_2 (Dropout)          (None, 4, 4, 256)         0         \n",
            "_________________________________________________________________\n",
            "conv2d_3 (Conv2D)            (None, 4, 4, 512)         3277312   \n",
            "_________________________________________________________________\n",
            "leaky_re_lu_3 (LeakyReLU)    (None, 4, 4, 512)         0         \n",
            "_________________________________________________________________\n",
            "dropout_3 (Dropout)          (None, 4, 4, 512)         0         \n",
            "_________________________________________________________________\n",
            "flatten (Flatten)            (None, 8192)              0         \n",
            "_________________________________________________________________\n",
            "dense (Dense)                (None, 1)                 8193      \n",
            "_________________________________________________________________\n",
            "activation (Activation)      (None, 1)                 0         \n",
            "=================================================================\n",
            "Total params: 4,314,753\n",
            "Trainable params: 4,314,753\n",
            "Non-trainable params: 0\n",
            "_________________________________________________________________\n",
            "Model: \"sequential_1\"\n",
            "_________________________________________________________________\n",
            "Layer (type)                 Output Shape              Param #   \n",
            "=================================================================\n",
            "dense_1 (Dense)              (None, 16384)             1654784   \n",
            "_________________________________________________________________\n",
            "batch_normalization (BatchNo (None, 16384)             65536     \n",
            "_________________________________________________________________\n",
            "activation_1 (Activation)    (None, 16384)             0         \n",
            "_________________________________________________________________\n",
            "reshape (Reshape)            (None, 8, 8, 256)         0         \n",
            "_________________________________________________________________\n",
            "dropout_4 (Dropout)          (None, 8, 8, 256)         0         \n",
            "_________________________________________________________________\n",
            "up_sampling2d (UpSampling2D) (None, 16, 16, 256)       0         \n",
            "_________________________________________________________________\n",
            "conv2d_transpose (Conv2DTran (None, 16, 16, 128)       819328    \n",
            "_________________________________________________________________\n",
            "batch_normalization_1 (Batch (None, 16, 16, 128)       512       \n",
            "_________________________________________________________________\n",
            "activation_2 (Activation)    (None, 16, 16, 128)       0         \n",
            "_________________________________________________________________\n",
            "up_sampling2d_1 (UpSampling2 (None, 32, 32, 128)       0         \n",
            "_________________________________________________________________\n",
            "conv2d_transpose_1 (Conv2DTr (None, 32, 32, 64)        204864    \n",
            "_________________________________________________________________\n",
            "batch_normalization_2 (Batch (None, 32, 32, 64)        256       \n",
            "_________________________________________________________________\n",
            "activation_3 (Activation)    (None, 32, 32, 64)        0         \n",
            "_________________________________________________________________\n",
            "conv2d_transpose_2 (Conv2DTr (None, 32, 32, 32)        51232     \n",
            "_________________________________________________________________\n",
            "batch_normalization_3 (Batch (None, 32, 32, 32)        128       \n",
            "_________________________________________________________________\n",
            "activation_4 (Activation)    (None, 32, 32, 32)        0         \n",
            "_________________________________________________________________\n",
            "conv2d_transpose_3 (Conv2DTr (None, 32, 32, 3)         2403      \n",
            "_________________________________________________________________\n",
            "activation_5 (Activation)    (None, 32, 32, 3)         0         \n",
            "=================================================================\n",
            "Total params: 2,799,043\n",
            "Trainable params: 2,765,827\n",
            "Non-trainable params: 33,216\n",
            "_________________________________________________________________\n"
          ],
          "name": "stdout"
        }
      ]
    },
    {
      "cell_type": "code",
      "metadata": {
        "colab": {
          "base_uri": "https://localhost:8080/",
          "height": 1000
        },
        "id": "km6gr0VBsIf6",
        "outputId": "45c92f2e-3301-4692-9542-2eb3d9e2b3e5"
      },
      "source": [
        "# Some parameters. \r\n",
        "epochs = 5000 \r\n",
        "sample_size = 10 \r\n",
        "batch_size = 100\r\n",
        "train_per_epoch = x_train.shape[0] // batch_size\r\n",
        "gen_imgs = []\r\n",
        "\r\n",
        "for epoch in range(0, epochs): \r\n",
        "  total_d_loss = 0.0 \r\n",
        "  total_a_loss = 0.0 \r\n",
        "  imgs = None \r\n",
        "  \r\n",
        "  for batch in range(0, train_per_epoch): \r\n",
        "    d_loss, a_loss, t_imgs = gan.train(batch_size) \r\n",
        "    total_d_loss += d_loss \r\n",
        "    total_a_loss += a_loss \r\n",
        "    \r\n",
        "    if imgs is None:\r\n",
        "      imgs = t_imgs\r\n",
        "  gen_imgs.append(imgs)\r\n",
        "\r\n",
        "  if epoch % 20 == 0 or epoch == epochs - 1: \r\n",
        "    total_d_loss /= train_per_epoch \r\n",
        "    total_a_loss /= train_per_epoch \r\n",
        "    print(\"Epoch: {}, D Loss: {}, AM Loss: {}\" .format(epoch, total_d_loss, total_a_loss))\r\n",
        "\r\n",
        "# Show generated images. \r\n",
        "\r\n",
        "fig, ax = plt.subplots(1, sample_size, figsize=(sample_size, 1)) \r\n",
        "for i in range(0, sample_size): \r\n",
        "  ax[i].set_axis_off() \r\n",
        "  ax[i].imshow(imgs[i].reshape((gan.img_rows, gan.img_cols, gan.channel)), interpolation='nearest'); \r\n",
        "plt.show() \r\n",
        "plt.close(fig); \r\n",
        "  \r\n",
        "# Save weights \r\n",
        "gan.save()"
      ],
      "execution_count": 16,
      "outputs": [
        {
          "output_type": "stream",
          "text": [
            "Epoch: 0, D Loss: 0.4629279659129679, AM Loss: 0.2681393965808146\n",
            "Epoch: 20, D Loss: 0.2591882397731145, AM Loss: 3.1138756275177\n",
            "Epoch: 40, D Loss: 0.05727387204145392, AM Loss: 4.798912187417348\n",
            "Epoch: 60, D Loss: 0.27492974574367207, AM Loss: 3.6922578116257987\n",
            "Epoch: 80, D Loss: 0.3901420757174492, AM Loss: 3.790717755754789\n",
            "Epoch: 100, D Loss: 0.10620941547676921, AM Loss: 4.61210435628891\n",
            "Epoch: 120, D Loss: 0.2012611081202825, AM Loss: 2.5103812217712402\n",
            "Epoch: 140, D Loss: 0.2717758392294248, AM Loss: 2.2442337572574615\n",
            "Epoch: 160, D Loss: 0.19518976286053658, AM Loss: 3.6271427075068154\n",
            "Epoch: 180, D Loss: 0.30851251011093456, AM Loss: 2.0819031099478402\n",
            "Epoch: 200, D Loss: 0.4278235820432504, AM Loss: 2.7409659226735434\n",
            "Epoch: 220, D Loss: 0.21145356570680937, AM Loss: 2.4886115193367004\n",
            "Epoch: 240, D Loss: 0.29656703397631645, AM Loss: 2.748589555422465\n",
            "Epoch: 260, D Loss: 0.30658958852291107, AM Loss: 3.55352516969045\n",
            "Epoch: 280, D Loss: 0.25669020414352417, AM Loss: 1.6524068415164948\n",
            "Epoch: 300, D Loss: 0.28333133086562157, AM Loss: 3.8672519524892173\n",
            "Epoch: 320, D Loss: 0.2600790945192178, AM Loss: 2.382277955611547\n",
            "Epoch: 340, D Loss: 0.305615125844876, AM Loss: 2.9969639976819358\n",
            "Epoch: 360, D Loss: 0.270444892346859, AM Loss: 3.3736178974310556\n",
            "Epoch: 380, D Loss: 0.16543659381568432, AM Loss: 4.28997262318929\n",
            "Epoch: 400, D Loss: 0.25034981593489647, AM Loss: 3.313003659248352\n",
            "Epoch: 420, D Loss: 0.26602958018581074, AM Loss: 3.770856340726217\n",
            "Epoch: 440, D Loss: 0.18609927843014398, AM Loss: 3.392562210559845\n",
            "Epoch: 460, D Loss: 0.21627846484382948, AM Loss: 3.240711530049642\n",
            "Epoch: 480, D Loss: 0.20590453098217645, AM Loss: 3.346448759237925\n",
            "Epoch: 500, D Loss: 0.26816242188215256, AM Loss: 4.7020707329114275\n",
            "Epoch: 520, D Loss: 0.26636286824941635, AM Loss: 3.277802805105845\n",
            "Epoch: 540, D Loss: 0.23882843305667242, AM Loss: 4.055129488309224\n",
            "Epoch: 560, D Loss: 0.17258777345220247, AM Loss: 3.650676985581716\n",
            "Epoch: 580, D Loss: 0.22919494658708572, AM Loss: 3.4848216573397317\n",
            "Epoch: 600, D Loss: 0.23742129653692245, AM Loss: 4.052632729212443\n",
            "Epoch: 620, D Loss: 0.2340125342210134, AM Loss: 4.326888263225555\n",
            "Epoch: 640, D Loss: 0.25126301124691963, AM Loss: 4.244803845882416\n",
            "Epoch: 660, D Loss: 0.11546841139594714, AM Loss: 5.585822979609172\n",
            "Epoch: 680, D Loss: 0.20063512958586216, AM Loss: 4.373561461766561\n",
            "Epoch: 700, D Loss: 0.17819526977837086, AM Loss: 4.634763995806376\n",
            "Epoch: 720, D Loss: 0.16921460814774036, AM Loss: 4.847139398256938\n",
            "Epoch: 740, D Loss: 0.1709759874890248, AM Loss: 4.499052921930949\n",
            "Epoch: 760, D Loss: 0.1481745479007562, AM Loss: 4.849313219388326\n",
            "Epoch: 780, D Loss: 0.1778449354072412, AM Loss: 4.230744481086731\n",
            "Epoch: 800, D Loss: 0.20232979642848173, AM Loss: 4.638779441515605\n",
            "Epoch: 820, D Loss: 0.2041630819439888, AM Loss: 4.8268329699834185\n",
            "Epoch: 840, D Loss: 0.1254519590487083, AM Loss: 5.380115191141765\n",
            "Epoch: 860, D Loss: 0.17885273694992065, AM Loss: 4.8579897085825605\n",
            "Epoch: 880, D Loss: 0.14584777628382048, AM Loss: 5.591267983118693\n",
            "Epoch: 900, D Loss: 0.13049982581287622, AM Loss: 5.412320653597514\n",
            "Epoch: 920, D Loss: 0.15085911067823568, AM Loss: 5.061895688374837\n",
            "Epoch: 940, D Loss: 0.18477764911949635, AM Loss: 4.555272082487742\n",
            "Epoch: 960, D Loss: 0.16062037957211336, AM Loss: 4.896855711936951\n",
            "Epoch: 980, D Loss: 0.16813796137770018, AM Loss: 5.059574564297994\n",
            "Epoch: 1000, D Loss: 0.16149681620299816, AM Loss: 6.232290466626485\n",
            "Epoch: 1020, D Loss: 0.19455553901692232, AM Loss: 5.411152799924214\n",
            "Epoch: 1040, D Loss: 0.15350431824723879, AM Loss: 5.622744758923848\n",
            "Epoch: 1060, D Loss: 0.16368873293201128, AM Loss: 5.447003881136577\n",
            "Epoch: 1080, D Loss: 0.1342923454940319, AM Loss: 5.974085330963135\n",
            "Epoch: 1100, D Loss: 0.17598826438188553, AM Loss: 5.110391934712728\n",
            "Epoch: 1120, D Loss: 0.1865136375029882, AM Loss: 5.602606813112895\n",
            "Epoch: 1140, D Loss: 0.1346263773739338, AM Loss: 6.3956979513168335\n",
            "Epoch: 1160, D Loss: 0.13899980299174786, AM Loss: 6.880121191342671\n",
            "Epoch: 1180, D Loss: 0.13149778669079146, AM Loss: 5.95638092358907\n",
            "Epoch: 1200, D Loss: 0.09347556717693806, AM Loss: 6.737953344980876\n",
            "Epoch: 1220, D Loss: 0.1956179899473985, AM Loss: 6.116075436274211\n",
            "Epoch: 1240, D Loss: 0.16774206111828485, AM Loss: 6.040514906247457\n",
            "Epoch: 1260, D Loss: 0.12930079642683268, AM Loss: 6.391186952590942\n",
            "Epoch: 1280, D Loss: 0.0822822330519557, AM Loss: 5.753894686698914\n",
            "Epoch: 1300, D Loss: 0.11598016259570916, AM Loss: 6.113391876220703\n",
            "Epoch: 1320, D Loss: 0.11773676797747612, AM Loss: 6.489971955617269\n",
            "Epoch: 1340, D Loss: 0.16480529308319092, AM Loss: 5.97824231783549\n",
            "Epoch: 1360, D Loss: 0.1337297943731149, AM Loss: 6.587297161420186\n",
            "Epoch: 1380, D Loss: 0.12245604271690051, AM Loss: 5.640828529993693\n",
            "Epoch: 1400, D Loss: 0.09236936271190643, AM Loss: 7.523954709370931\n",
            "Epoch: 1420, D Loss: 0.13067706860601902, AM Loss: 6.139270385106404\n",
            "Epoch: 1440, D Loss: 0.17319371985892454, AM Loss: 7.153311014175415\n",
            "Epoch: 1460, D Loss: 0.15396561349431673, AM Loss: 6.884486158688863\n",
            "Epoch: 1480, D Loss: 0.11466010939329863, AM Loss: 6.523633718490601\n",
            "Epoch: 1500, D Loss: 0.1561124368260304, AM Loss: 6.8033201694488525\n",
            "Epoch: 1520, D Loss: 0.12838333969314894, AM Loss: 6.134694536526998\n",
            "Epoch: 1540, D Loss: 0.12145911095043023, AM Loss: 5.735443154970805\n",
            "Epoch: 1560, D Loss: 0.19221196758250395, AM Loss: 6.658451755841573\n",
            "Epoch: 1580, D Loss: 0.13716083206236362, AM Loss: 6.273436268170674\n",
            "Epoch: 1600, D Loss: 0.15739907572666803, AM Loss: 7.015618483225505\n",
            "Epoch: 1620, D Loss: 0.15826228136817613, AM Loss: 7.137579917907715\n",
            "Epoch: 1640, D Loss: 0.17206423729658127, AM Loss: 5.985886812210083\n",
            "Epoch: 1660, D Loss: 0.13100235847135386, AM Loss: 7.045194029808044\n",
            "Epoch: 1680, D Loss: 0.12178569907943408, AM Loss: 6.776509006818135\n",
            "Epoch: 1700, D Loss: 0.1248853753010432, AM Loss: 6.879947304725647\n",
            "Epoch: 1720, D Loss: 0.14476777768383423, AM Loss: 6.552071770032247\n",
            "Epoch: 1740, D Loss: 0.12504238138596216, AM Loss: 6.976976950963338\n",
            "Epoch: 1760, D Loss: 0.1267981088409821, AM Loss: 7.063529849052429\n",
            "Epoch: 1780, D Loss: 0.12300247419625521, AM Loss: 7.5404495398203535\n",
            "Epoch: 1800, D Loss: 0.14256629751374325, AM Loss: 7.617594599723816\n",
            "Epoch: 1820, D Loss: 0.1648007035255432, AM Loss: 7.25664210319519\n",
            "Epoch: 1840, D Loss: 0.21024851128458977, AM Loss: 7.200064063072205\n",
            "Epoch: 1860, D Loss: 0.17049089260399342, AM Loss: 7.37778627872467\n",
            "Epoch: 1880, D Loss: 0.15959483260909715, AM Loss: 7.089027841885884\n",
            "Epoch: 1900, D Loss: 0.14004309413333735, AM Loss: 7.521650751431783\n",
            "Epoch: 1920, D Loss: 0.13682152951757112, AM Loss: 7.346290151278178\n",
            "Epoch: 1940, D Loss: 0.12235129189987977, AM Loss: 7.255948503812154\n",
            "Epoch: 1960, D Loss: 0.12372120376676321, AM Loss: 7.112354874610901\n",
            "Epoch: 1980, D Loss: 0.14622200839221478, AM Loss: 7.957080602645874\n",
            "Epoch: 2000, D Loss: 0.14633578745027384, AM Loss: 7.819303075472514\n",
            "Epoch: 2020, D Loss: 0.13403701782226562, AM Loss: 7.496419032414754\n",
            "Epoch: 2040, D Loss: 0.10983392208193739, AM Loss: 7.746577779452006\n",
            "Epoch: 2060, D Loss: 0.16116559195021787, AM Loss: 6.645720362663269\n",
            "Epoch: 2080, D Loss: 0.10186146758496761, AM Loss: 7.052233099937439\n",
            "Epoch: 2100, D Loss: 0.16007331075767675, AM Loss: 7.153011322021484\n",
            "Epoch: 2120, D Loss: 0.15068668654809395, AM Loss: 7.31384030977885\n",
            "Epoch: 2140, D Loss: 0.12043353387465079, AM Loss: 7.544931650161743\n",
            "Epoch: 2160, D Loss: 0.15084075275808573, AM Loss: 7.432401855786641\n",
            "Epoch: 2180, D Loss: 0.12820712321748337, AM Loss: 7.27680246035258\n",
            "Epoch: 2200, D Loss: 0.1444313870742917, AM Loss: 8.066969792048136\n",
            "Epoch: 2220, D Loss: 0.18707493195931116, AM Loss: 7.474621295928955\n",
            "Epoch: 2240, D Loss: 0.16518992061416307, AM Loss: 7.903063456217448\n",
            "Epoch: 2260, D Loss: 0.1276609202226003, AM Loss: 7.3438264926274615\n",
            "Epoch: 2280, D Loss: 0.12365354628612597, AM Loss: 8.034591555595398\n",
            "Epoch: 2300, D Loss: 0.14349747014542422, AM Loss: 7.166023929913838\n",
            "Epoch: 2320, D Loss: 0.13876488277067742, AM Loss: 7.841486692428589\n",
            "Epoch: 2340, D Loss: 0.16274865375210842, AM Loss: 7.752580881118774\n",
            "Epoch: 2360, D Loss: 0.12974038440734148, AM Loss: 8.072635332743326\n",
            "Epoch: 2380, D Loss: 0.11980908115704854, AM Loss: 7.256662368774414\n",
            "Epoch: 2400, D Loss: 0.20945353557666144, AM Loss: 7.639130751291911\n",
            "Epoch: 2420, D Loss: 0.1996146167318026, AM Loss: 8.806615948677063\n",
            "Epoch: 2440, D Loss: 0.1511981151998043, AM Loss: 7.227943221728007\n",
            "Epoch: 2460, D Loss: 0.12695469986647367, AM Loss: 8.402446945508322\n",
            "Epoch: 2480, D Loss: 0.15404167181501785, AM Loss: 8.679450194040934\n",
            "Epoch: 2500, D Loss: 0.12172430070737998, AM Loss: 8.13614555199941\n",
            "Epoch: 2520, D Loss: 0.12946377353121838, AM Loss: 7.421142657597859\n",
            "Epoch: 2540, D Loss: 0.12781778474648794, AM Loss: 9.390670220057169\n",
            "Epoch: 2560, D Loss: 0.14663002888361612, AM Loss: 8.264604528745016\n",
            "Epoch: 2580, D Loss: 0.15130351670086384, AM Loss: 6.945441166559855\n",
            "Epoch: 2600, D Loss: 0.1282568434253335, AM Loss: 8.43887448310852\n",
            "Epoch: 2620, D Loss: 0.12486979241172473, AM Loss: 7.5608683824539185\n",
            "Epoch: 2640, D Loss: 0.10477908638616402, AM Loss: 7.427226265271504\n",
            "Epoch: 2660, D Loss: 0.21022792036334673, AM Loss: 8.773063818613688\n",
            "Epoch: 2680, D Loss: 0.1730412576968471, AM Loss: 8.549561858177185\n",
            "Epoch: 2700, D Loss: 0.14672603023548922, AM Loss: 8.905548652013143\n",
            "Epoch: 2720, D Loss: 0.21362436252335706, AM Loss: 8.227255503336588\n",
            "Epoch: 2740, D Loss: 0.1298047543192903, AM Loss: 8.81203031539917\n",
            "Epoch: 2760, D Loss: 0.1454552197828889, AM Loss: 8.203060070673624\n",
            "Epoch: 2780, D Loss: 0.18520624997715154, AM Loss: 9.30764881769816\n",
            "Epoch: 2800, D Loss: 0.13228043665488562, AM Loss: 7.998539010683696\n",
            "Epoch: 2820, D Loss: 0.15462695310513178, AM Loss: 8.702756563822428\n",
            "Epoch: 2840, D Loss: 0.12576082185842097, AM Loss: 9.11570656299591\n",
            "Epoch: 2860, D Loss: 0.15469051307688156, AM Loss: 8.649890224138895\n",
            "Epoch: 2880, D Loss: 0.1306907640149196, AM Loss: 7.47315529982249\n",
            "Epoch: 2900, D Loss: 0.11733301791052024, AM Loss: 8.661061525344849\n",
            "Epoch: 2920, D Loss: 0.1706265195583304, AM Loss: 7.892067790031433\n",
            "Epoch: 2940, D Loss: 0.16875151296456656, AM Loss: 8.454156080881754\n",
            "Epoch: 2960, D Loss: 0.1673992599050204, AM Loss: 8.559695839881897\n",
            "Epoch: 2980, D Loss: 0.1106476541608572, AM Loss: 8.774593273798624\n",
            "Epoch: 3000, D Loss: 0.1841216099758943, AM Loss: 8.246124744415283\n",
            "Epoch: 3020, D Loss: 0.18873951149483523, AM Loss: 8.99449117978414\n",
            "Epoch: 3040, D Loss: 0.10054624763627847, AM Loss: 8.537250796953836\n",
            "Epoch: 3060, D Loss: 0.10978051057706277, AM Loss: 8.058808247248331\n",
            "Epoch: 3080, D Loss: 0.15634282430013022, AM Loss: 8.895894130071005\n",
            "Epoch: 3100, D Loss: 0.20622875106831393, AM Loss: 8.813647548357645\n",
            "Epoch: 3120, D Loss: 0.12017092481255531, AM Loss: 8.33616272608439\n",
            "Epoch: 3140, D Loss: 0.14441773698975643, AM Loss: 8.487304250399271\n",
            "Epoch: 3160, D Loss: 0.19219932332634926, AM Loss: 8.051349401473999\n",
            "Epoch: 3180, D Loss: 0.1276748739182949, AM Loss: 7.54571517308553\n",
            "Epoch: 3200, D Loss: 0.13221120834350586, AM Loss: 9.415217479070028\n",
            "Epoch: 3220, D Loss: 0.15757341620822748, AM Loss: 7.875086983044942\n",
            "Epoch: 3240, D Loss: 0.10520902803788583, AM Loss: 8.435718774795532\n",
            "Epoch: 3260, D Loss: 0.16346218095471463, AM Loss: 8.98261570930481\n",
            "Epoch: 3280, D Loss: 0.16389746808757386, AM Loss: 8.658718427022299\n",
            "Epoch: 3300, D Loss: 0.18937087679902712, AM Loss: 8.988916873931885\n",
            "Epoch: 3320, D Loss: 0.16507117015620074, AM Loss: 8.495139837265015\n",
            "Epoch: 3340, D Loss: 0.1622918313369155, AM Loss: 9.05166725317637\n",
            "Epoch: 3360, D Loss: 0.14820712804794312, AM Loss: 7.94053320089976\n",
            "Epoch: 3380, D Loss: 0.1324070400247971, AM Loss: 8.775443275769552\n",
            "Epoch: 3400, D Loss: 0.19078349570433298, AM Loss: 9.112895091374716\n",
            "Epoch: 3420, D Loss: 0.17534097594519457, AM Loss: 8.196959773699442\n",
            "Epoch: 3440, D Loss: 0.15034305676817894, AM Loss: 10.022428274154663\n",
            "Epoch: 3460, D Loss: 0.23112685419619083, AM Loss: 7.976022402445476\n",
            "Epoch: 3480, D Loss: 0.12972466895977655, AM Loss: 8.319641590118408\n",
            "Epoch: 3500, D Loss: 0.13123843787858883, AM Loss: 9.710667451222738\n",
            "Epoch: 3520, D Loss: 0.22652204955617586, AM Loss: 10.712436040242514\n",
            "Epoch: 3540, D Loss: 0.1652775052934885, AM Loss: 9.30411454041799\n",
            "Epoch: 3560, D Loss: 0.15827996314813694, AM Loss: 9.8417040904363\n",
            "Epoch: 3580, D Loss: 0.15918132166067758, AM Loss: 8.63290294011434\n",
            "Epoch: 3600, D Loss: 0.17216545653839907, AM Loss: 8.214245597521463\n",
            "Epoch: 3620, D Loss: 0.16683566880722842, AM Loss: 9.261762658754984\n",
            "Epoch: 3640, D Loss: 0.1723291010906299, AM Loss: 8.599451541900635\n",
            "Epoch: 3660, D Loss: 0.15969573659822345, AM Loss: 9.248787720998129\n",
            "Epoch: 3680, D Loss: 0.20475059126814207, AM Loss: 10.239529609680176\n",
            "Epoch: 3700, D Loss: 0.11604762108375628, AM Loss: 9.814520994822184\n",
            "Epoch: 3720, D Loss: 0.14265357330441475, AM Loss: 9.597445487976074\n",
            "Epoch: 3740, D Loss: 0.2035727221518755, AM Loss: 9.796422243118286\n",
            "Epoch: 3760, D Loss: 0.21254795168836912, AM Loss: 9.106411655743917\n",
            "Epoch: 3780, D Loss: 0.17007797925422588, AM Loss: 9.621941486994425\n",
            "Epoch: 3800, D Loss: 0.15964419953525066, AM Loss: 10.13940680027008\n",
            "Epoch: 3820, D Loss: 0.1522342705478271, AM Loss: 9.711201508839926\n",
            "Epoch: 3840, D Loss: 0.13379332174857458, AM Loss: 9.061663945515951\n",
            "Epoch: 3860, D Loss: 0.13954982782403627, AM Loss: 9.09934643904368\n",
            "Epoch: 3880, D Loss: 0.15242647317548594, AM Loss: 9.773881514867147\n",
            "Epoch: 3900, D Loss: 0.20670944110800824, AM Loss: 8.443078835805258\n",
            "Epoch: 3920, D Loss: 0.14487743626038233, AM Loss: 9.6295694510142\n",
            "Epoch: 3940, D Loss: 0.22859607823193073, AM Loss: 9.629188577334086\n",
            "Epoch: 3960, D Loss: 0.16082865496476492, AM Loss: 10.151813824971518\n",
            "Epoch: 3980, D Loss: 0.14759413401285806, AM Loss: 9.558389822642008\n",
            "Epoch: 4000, D Loss: 0.22404538995275894, AM Loss: 9.728606899579367\n",
            "Epoch: 4020, D Loss: 0.20212749484926462, AM Loss: 9.58761215209961\n",
            "Epoch: 4040, D Loss: 0.17964418232440948, AM Loss: 9.158137877782186\n",
            "Epoch: 4060, D Loss: 0.10398662881925702, AM Loss: 9.378121852874756\n",
            "Epoch: 4080, D Loss: 0.1242042111698538, AM Loss: 8.723330616950989\n",
            "Epoch: 4100, D Loss: 0.14143404038622975, AM Loss: 9.594127257664999\n",
            "Epoch: 4120, D Loss: 0.15741142568488917, AM Loss: 8.715387423833212\n",
            "Epoch: 4140, D Loss: 0.14305152650922537, AM Loss: 11.416003942489624\n",
            "Epoch: 4160, D Loss: 0.16610730439424515, AM Loss: 9.457177559534708\n",
            "Epoch: 4180, D Loss: 0.16346055331329504, AM Loss: 10.033105651537577\n",
            "Epoch: 4200, D Loss: 0.11086774369080861, AM Loss: 10.783374309539795\n",
            "Epoch: 4220, D Loss: 0.15542333666235209, AM Loss: 10.490713198979696\n",
            "Epoch: 4240, D Loss: 0.17417151046295962, AM Loss: 11.203704118728638\n",
            "Epoch: 4260, D Loss: 0.11038174356023471, AM Loss: 10.576116561889648\n",
            "Epoch: 4280, D Loss: 0.09718635817989707, AM Loss: 9.829919497172037\n",
            "Epoch: 4300, D Loss: 0.1821831843505303, AM Loss: 9.497546434402466\n",
            "Epoch: 4320, D Loss: 0.12579126904408136, AM Loss: 9.896351019541422\n",
            "Epoch: 4340, D Loss: 0.17553255520761013, AM Loss: 10.839470783869425\n",
            "Epoch: 4360, D Loss: 0.16170632590850195, AM Loss: 11.166784763336182\n",
            "Epoch: 4380, D Loss: 0.19541593951483568, AM Loss: 11.201225439707438\n",
            "Epoch: 4400, D Loss: 0.19045871930817762, AM Loss: 9.851191997528076\n",
            "Epoch: 4420, D Loss: 0.2610060057292382, AM Loss: 10.943140188852945\n",
            "Epoch: 4440, D Loss: 0.13321212865412235, AM Loss: 11.00222897529602\n",
            "Epoch: 4460, D Loss: 0.14102500335623822, AM Loss: 10.811019579569498\n",
            "Epoch: 4480, D Loss: 0.1866464577615261, AM Loss: 11.21951699256897\n",
            "Epoch: 4500, D Loss: 0.1480660972495874, AM Loss: 9.022373994191488\n",
            "Epoch: 4520, D Loss: 0.15808989480137825, AM Loss: 10.241576592127482\n",
            "Epoch: 4540, D Loss: 0.14332731006046137, AM Loss: 11.064278920491537\n",
            "Epoch: 4560, D Loss: 0.1718999482691288, AM Loss: 10.78871202468872\n",
            "Epoch: 4580, D Loss: 0.13758020071933666, AM Loss: 10.215952515602112\n",
            "Epoch: 4600, D Loss: 0.11489031029244264, AM Loss: 9.431147853533426\n",
            "Epoch: 4620, D Loss: 0.11897683888673782, AM Loss: 9.697604338328043\n",
            "Epoch: 4640, D Loss: 0.21156566124409437, AM Loss: 10.613013664881388\n",
            "Epoch: 4660, D Loss: 0.12316349893808365, AM Loss: 10.653369108835856\n",
            "Epoch: 4680, D Loss: 0.14578589083005986, AM Loss: 10.1723952293396\n",
            "Epoch: 4700, D Loss: 0.24985893815755844, AM Loss: 13.757749319076538\n",
            "Epoch: 4720, D Loss: 0.10025448561646044, AM Loss: 9.814307888348898\n",
            "Epoch: 4740, D Loss: 0.14332832830647627, AM Loss: 10.621320883433023\n",
            "Epoch: 4760, D Loss: 0.24163455391923586, AM Loss: 10.434802134831747\n",
            "Epoch: 4780, D Loss: 0.1834279183919231, AM Loss: 9.267313400904337\n",
            "Epoch: 4800, D Loss: 0.1637583070745071, AM Loss: 10.863741238911947\n",
            "Epoch: 4820, D Loss: 0.16875788072745004, AM Loss: 11.412937800089518\n",
            "Epoch: 4840, D Loss: 0.17225837210814157, AM Loss: 10.332539995511373\n",
            "Epoch: 4860, D Loss: 0.15145176276564598, AM Loss: 10.294838984807333\n",
            "Epoch: 4880, D Loss: 0.11507769348099828, AM Loss: 10.006426572799683\n",
            "Epoch: 4900, D Loss: 0.24115570013721785, AM Loss: 10.479395707448324\n",
            "Epoch: 4920, D Loss: 0.19073944787184396, AM Loss: 10.58467141787211\n",
            "Epoch: 4940, D Loss: 0.260056655233105, AM Loss: 13.147504250208536\n",
            "Epoch: 4960, D Loss: 0.09836712277804811, AM Loss: 11.464171965916952\n",
            "Epoch: 4980, D Loss: 0.1844539954327047, AM Loss: 10.515332539876303\n",
            "Epoch: 4999, D Loss: 0.15298636242126426, AM Loss: 12.44253102938334\n"
          ],
          "name": "stdout"
        },
        {
          "output_type": "display_data",
          "data": {
            "image/png": "[encoded data removed]",
            "text/plain": [
              "<Figure size 720x72 with 10 Axes>"
            ]
          },
          "metadata": {
            "tags": [],
            "needs_background": "light"
          }
        }
      ]
    },
    {
      "cell_type": "markdown",
      "metadata": {
        "id": "buZGP5s5pD7T"
      },
      "source": [
        ""
      ]
    },
    {
      "cell_type": "code",
      "metadata": {
        "id": "sSQGvJo0KDTd"
      },
      "source": [
        "gan.G.save_weights(\"./gan_g_weights.h5\")"
      ],
      "execution_count": 17,
      "outputs": []
    },
    {
      "cell_type": "code",
      "metadata": {
        "id": "fevH-awbKDqj"
      },
      "source": [
        "gan.D.save_weights(\"./gan_d_weights.h5\")"
      ],
      "execution_count": 18,
      "outputs": []
    },
    {
      "cell_type": "code",
      "metadata": {
        "id": "14eZR_A1KPsR"
      },
      "source": [
        "! cp gan_d_weights.h5 ./gdrive/MyDrive/saap_pjt_1_thumbnail/weights/\r\n",
        "! cp gan_g_weights.h5 ./gdrive/MyDrive/saap_pjt_1_thumbnail/weights/"
      ],
      "execution_count": 19,
      "outputs": []
    },
    {
      "cell_type": "code",
      "metadata": {
        "id": "6r07tWQfLVKb"
      },
      "source": [
        "with open('/content/gdrive/MyDrive/saap_pjt_1_thumbnail/gen_images_3232.pickle', 'wb') as f:\r\n",
        "    pickle.dump(gen_imgs, f, pickle.HIGHEST_PROTOCOL)"
      ],
      "execution_count": null,
      "outputs": []
    },
    {
      "cell_type": "code",
      "metadata": {
        "colab": {
          "base_uri": "https://localhost:8080/",
          "height": 172
        },
        "id": "EDVVr0hlLV_1",
        "outputId": "46e1e5b9-646c-4417-88e7-d9ac2e83544b"
      },
      "source": [
        "imgs"
      ],
      "execution_count": 1,
      "outputs": [
        {
          "output_type": "error",
          "ename": "NameError",
          "evalue": "ignored",
          "traceback": [
            "\u001b[0;31m---------------------------------------------------------------------------\u001b[0m",
            "\u001b[0;31mNameError\u001b[0m                                 Traceback (most recent call last)",
            "\u001b[0;32m<ipython-input-1-4a39ce85cb3d>\u001b[0m in \u001b[0;36m<module>\u001b[0;34m()\u001b[0m\n\u001b[0;32m----> 1\u001b[0;31m \u001b[0mimgs\u001b[0m\u001b[0;34m\u001b[0m\u001b[0;34m\u001b[0m\u001b[0m\n\u001b[0m",
            "\u001b[0;31mNameError\u001b[0m: name 'imgs' is not defined"
          ]
        }
      ]
    },
    {
      "cell_type": "code",
      "metadata": {
        "colab": {
          "base_uri": "https://localhost:8080/",
          "height": 105
        },
        "id": "9ldCHkVHMGuO",
        "outputId": "61f85f53-8859-42f8-a029-39dd19842aa9"
      },
      "source": [
        "fake_img = gan.predict(np.random.uniform(-1.0, 1.0, size=[1, 100]) )\r\n",
        "\r\n",
        "fig, ax = plt.subplots(1, 1, figsize=(1, 1)) \r\n",
        "ax.imshow(fake_img.reshape((gan.img_rows, gan.img_cols, gan.channel)), interpolation='nearest'); \r\n",
        "plt.show()\r\n",
        "plt.close(fig); "
      ],
      "execution_count": 155,
      "outputs": [
        {
          "output_type": "display_data",
          "data": {
            "image/png": "[encoded data removed]",
            "text/plain": [
              "<Figure size 72x72 with 1 Axes>"
            ]
          },
          "metadata": {
            "tags": [],
            "needs_background": "light"
          }
        }
      ]
    },
    {
      "cell_type": "code",
      "metadata": {
        "id": "ePd5MwrAMt-K"
      },
      "source": [
        ""
      ],
      "execution_count": 134,
      "outputs": []
    }
  ]
}